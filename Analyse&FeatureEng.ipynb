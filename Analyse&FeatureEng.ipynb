{
  "nbformat": 4,
  "nbformat_minor": 0,
  "metadata": {
    "colab": {
      "provenance": []
    },
    "kernelspec": {
      "name": "python3",
      "display_name": "Python 3"
    },
    "language_info": {
      "name": "python"
    }
  },
  "cells": [
    {
      "cell_type": "code",
      "execution_count": 3,
      "metadata": {
        "id": "VsfBC0Wdhm6Z"
      },
      "outputs": [],
      "source": [
        "import pandas as pd\n",
        "import numpy as np\n",
        "import nltk"
      ]
    },
    {
      "cell_type": "markdown",
      "source": [
        "Подгрузим train датасет и проверим сразу дизбаланс классов."
      ],
      "metadata": {
        "id": "nHDPL9Vf2drL"
      }
    },
    {
      "cell_type": "code",
      "source": [
        "df = pd.read_csv('train_spam.csv')\n",
        "df['text_type'].value_counts()\n"
      ],
      "metadata": {
        "colab": {
          "base_uri": "https://localhost:8080/"
        },
        "id": "ZfETLSGok9LT",
        "outputId": "bf3e41fd-afc7-48fd-a7e2-7564d7e5c567"
      },
      "execution_count": 5,
      "outputs": [
        {
          "output_type": "execute_result",
          "data": {
            "text/plain": [
              "text_type\n",
              "ham     11469\n",
              "spam     4809\n",
              "Name: count, dtype: int64"
            ]
          },
          "metadata": {},
          "execution_count": 5
        }
      ]
    },
    {
      "cell_type": "markdown",
      "source": [
        "Дизбаланс классов присутствует, но не большой. Изучим набор представленный набор данных: посмотрим на самые популярные символы, которые встречаются в текстах спама и не спама."
      ],
      "metadata": {
        "id": "vvB4nVW3EUYW"
      }
    },
    {
      "cell_type": "code",
      "source": [
        "from nltk.corpus import stopwords\n",
        "from collections import Counter\n",
        "from nltk.tokenize import TweetTokenizer\n",
        "from nltk.stem.snowball import SnowballStemmer\n",
        "\n",
        "spam_messages = df[df['text_type'] == 'spam']['text']\n",
        "not_spam_messages = df[df['text_type'] == 'ham']['text']\n",
        "\n",
        "tw = TweetTokenizer()\n",
        "\n",
        "spam = []\n",
        "not_spam = []\n",
        "\n",
        "for msg in spam_messages:\n",
        "  spam += tw.tokenize(msg)\n",
        "\n",
        "for msg in not_spam_messages:\n",
        "  not_spam += tw.tokenize(msg)\n",
        "\n",
        "stop_words = set(stopwords.words('english'))\n",
        "spam  = [word for word in spam if word not in stop_words]\n",
        "not_spam = [word for word in not_spam if word not in stop_words]\n",
        "\n",
        "total_spam_words = len(spam)\n",
        "total_not_spam_words = len(not_spam)\n",
        "\n",
        "stem = SnowballStemmer(\"english\")\n",
        "stem_spam = [stem.stem(w) for w in spam]\n",
        "stem_not_spam = [stem.stem(w) for w in not_spam]\n",
        "\n",
        "spam_counter = Counter(stem_spam)\n",
        "not_spam_counter = Counter(stem_not_spam)\n",
        "spam_df = pd.DataFrame()\n",
        "not_spam_df = pd.DataFrame()\n",
        "feature1=[]\n",
        "feature2=[]\n",
        "\n",
        "print('Top 20 spam words: ')\n",
        "for word, count in spam_counter.most_common(20):\n",
        "    print(word, \": \", count)\n",
        "    feature1.append(word)\n",
        "print('\\nTop 20 not spam words: ')\n",
        "for word, count in not_spam_counter.most_common(20):\n",
        "    print(word, \": \", count)\n",
        "    feature2.append(word)\n"
      ],
      "metadata": {
        "colab": {
          "base_uri": "https://localhost:8080/"
        },
        "id": "Do8p3OI1pqZ9",
        "outputId": "4fe4f984-0192-4fe3-cc59-f827c185b826"
      },
      "execution_count": 7,
      "outputs": [
        {
          "output_type": "stream",
          "name": "stdout",
          "text": [
            "Top 20 spam words: \n",
            "👇 :  2187\n",
            "free :  1085\n",
            "get :  966\n",
            "1635465 :  827\n",
            "1 :  799\n",
            "️ :  772\n",
            "$ :  759\n",
            "/ :  690\n",
            "call :  653\n",
            "invest :  648\n",
            "2 :  648\n",
            "! :  622\n",
            "receiv :  595\n",
            "click :  574\n",
            "new :  562\n",
            "link :  546\n",
            ": :  529\n",
            "✅ :  526\n",
            "offer :  524\n",
            "make :  521\n",
            "\n",
            "Top 20 not spam words: \n",
            "ect :  5344\n",
            "enron :  4850\n",
            "vinc :  4530\n",
            "1635465 :  4023\n",
            "url :  3625\n",
            "1635465 1635 :  3131\n",
            "hou :  2660\n",
            "kaminski :  2382\n",
            "2000 :  2204\n",
            "subject :  2117\n",
            "pleas :  1948\n",
            "j :  1929\n",
            "cc :  1909\n",
            "pm :  1895\n",
            "thank :  1886\n",
            "com :  1854\n",
            "would :  1850\n",
            "465 1635465 :  1790\n",
            "get :  1632\n",
            "time :  1613\n"
          ]
        }
      ]
    },
    {
      "cell_type": "markdown",
      "source": [
        "Видны хорошие признаки спама - специальные смайлики, они дают хорошие шансы, что сообщение спам. Но наблюдается также и загрязнение в данных. Число 1635465 встречается под обеими метками, и абсолютно не понятно к чему оно - нужно очистить данные от этого. Так же слова вроде get встречаются и там, и там.\n",
        "Удалим лишние признаки."
      ],
      "metadata": {
        "id": "syQoRwV8BssT"
      }
    },
    {
      "cell_type": "code",
      "source": [
        "delete1 = [3,3,3,3,3,5,5,9]\n",
        "delete2 = [3,4,6,13,-3]\n",
        "for i in delete1:\n",
        "  f1.pop(i)\n",
        "for i in delete2:\n",
        "  f2.pop(i)"
      ],
      "metadata": {
        "id": "9g4rVUwLD3F0"
      },
      "execution_count": null,
      "outputs": []
    },
    {
      "cell_type": "markdown",
      "source": [
        "Помимо самого текста будем использовать признаки общие характеристики текста:\n",
        "1. Подсчет слов в тексте, схожих на слова спама.\n",
        "2. Подсчет слов в тексте, схожих на слова не спама.\n",
        "3. Подсчет специальных знаков.\n",
        "4. Подсчет количества цифр в тексте\n",
        "5. Длина текста.\n",
        "6. Количество слов в тексте.\n",
        "7. Количество смайликов в тексте."
      ],
      "metadata": {
        "id": "KfJn8TfgDEZs"
      }
    },
    {
      "cell_type": "code",
      "source": [
        "pip install emoji"
      ],
      "metadata": {
        "colab": {
          "base_uri": "https://localhost:8080/"
        },
        "id": "0ng5YhVLFHyJ",
        "outputId": "7cb329c1-b07a-4c4a-d105-5aac432b35cc"
      },
      "execution_count": null,
      "outputs": [
        {
          "output_type": "stream",
          "name": "stdout",
          "text": [
            "Collecting emoji\n",
            "  Downloading emoji-2.11.1-py2.py3-none-any.whl (433 kB)\n",
            "\u001b[?25l     \u001b[90m━━━━━━━━━━━━━━━━━━━━━━━━━━━━━━━━━━━━━━━━\u001b[0m \u001b[32m0.0/433.8 kB\u001b[0m \u001b[31m?\u001b[0m eta \u001b[36m-:--:--\u001b[0m\r\u001b[2K     \u001b[91m━━━━━━━━━━━━━━━\u001b[0m\u001b[90m╺\u001b[0m\u001b[90m━━━━━━━━━━━━━━━━━━━━━━━━\u001b[0m \u001b[32m163.8/433.8 kB\u001b[0m \u001b[31m4.9 MB/s\u001b[0m eta \u001b[36m0:00:01\u001b[0m\r\u001b[2K     \u001b[90m━━━━━━━━━━━━━━━━━━━━━━━━━━━━━━━━━━━━━━━━\u001b[0m \u001b[32m433.8/433.8 kB\u001b[0m \u001b[31m8.0 MB/s\u001b[0m eta \u001b[36m0:00:00\u001b[0m\n",
            "\u001b[?25hInstalling collected packages: emoji\n",
            "Successfully installed emoji-2.11.1\n"
          ]
        }
      ]
    },
    {
      "cell_type": "markdown",
      "source": [
        "Разобъем текст на токены, избавим его от стоп слов и некоторых грязных данных, а также воспользуемся стеммингом над английским текстом."
      ],
      "metadata": {
        "id": "iCtavQi9QSD2"
      }
    },
    {
      "cell_type": "code",
      "source": [
        "def PrepareData(text):\n",
        "  tw = TweetTokenizer()\n",
        "  text = tw.tokenize(text)\n",
        "  stop_words = set(stopwords.words('english')) | set(['1635465','465','1635','465 1635465','1635465 1635'])\n",
        "  text  = [word for word in text if word not in stop_words]\n",
        "  stem = SnowballStemmer(\"english\")\n",
        "  stem_text = [stem.stem(w) for w in text]\n",
        "  return ' '.join(stem_text)\n",
        "test = pd.read_csv('test_spam.csv')\n",
        "df['text'] = df['text'].apply(PrepareData)\n",
        "test['text'] = test['text'].apply(PrepareData)"
      ],
      "metadata": {
        "id": "dharVF6ouqW5"
      },
      "execution_count": null,
      "outputs": []
    },
    {
      "cell_type": "markdown",
      "source": [
        "Обозначим символы и слова, которые мы будем считать как признак текста."
      ],
      "metadata": {
        "id": "HLTnrvdjQiMf"
      }
    },
    {
      "cell_type": "code",
      "source": [
        "add1 = ['money','earn','best','business']\n",
        "feature3 = ['$','&','@','!','?','.','#','№',':',';']\n",
        "feature4 = ['0','1','2','3','4','5','6','7','8','9']\n",
        "feature1 = feature1 + add1"
      ],
      "metadata": {
        "id": "UQ1M4_WYAqwn"
      },
      "execution_count": null,
      "outputs": []
    },
    {
      "cell_type": "markdown",
      "source": [
        "Добавим ранее объявленные признаки в train и test файлы."
      ],
      "metadata": {
        "id": "SDuLSyIYQsWM"
      }
    },
    {
      "cell_type": "code",
      "source": [
        "import emoji\n",
        "test_train = [df,test]\n",
        "for i in test_train:\n",
        "  i['spam_symbols'] = i['text'].apply(lambda text: sum(word in text for word in feature1))\n",
        "  i['not_spam_symbols'] = i['text'].apply(lambda text: sum(word in text for word in feature2))\n",
        "  i['special_symbols'] = i['text'].apply(lambda text: sum(word in text for word in feature3))\n",
        "  i['digits'] = i['text'].apply(lambda text: sum(word in text for word in feature4))\n",
        "  i['text_len'] = i['text'].apply(lambda text: len(text))\n",
        "  i['words_count'] = i['text'].apply(lambda text: len(text.split(' ')))\n",
        "  i['emojis_count'] = i['text'].apply(lambda text: sum(emoji.is_emoji(word) for word in text))"
      ],
      "metadata": {
        "id": "WS8TLOtMJYer"
      },
      "execution_count": null,
      "outputs": []
    },
    {
      "cell_type": "markdown",
      "source": [
        "Сохраняем полученные данные."
      ],
      "metadata": {
        "id": "pZPs5cM7Q17D"
      }
    },
    {
      "cell_type": "code",
      "source": [
        "df.to_csv('prepared_train.csv',index = False)\n",
        "test.to_csv('prepared_test.csv',index = False)\n"
      ],
      "metadata": {
        "id": "ARXREix4K1zY"
      },
      "execution_count": null,
      "outputs": []
    },
    {
      "cell_type": "code",
      "source": [
        "df"
      ],
      "metadata": {
        "colab": {
          "base_uri": "https://localhost:8080/",
          "height": 424
        },
        "id": "vD4y0vJhNm7H",
        "outputId": "5e20af31-4dfe-4fa0-aab8-a4abdf960cb6"
      },
      "execution_count": null,
      "outputs": [
        {
          "output_type": "execute_result",
          "data": {
            "text/plain": [
              "      text_type                                               text  \\\n",
              "0           ham  make sure alex know birthday fifteen minut far...   \n",
              "1           ham  resum john lavorato thank vinc get move right ...   \n",
              "2          spam  plzz visit websit moviesgodml get movi free al...   \n",
              "3          spam  urgent mobil number award £ 2000 prize guarant...   \n",
              "4           ham  overview hr associ analyst project per david r...   \n",
              "...         ...                                                ...   \n",
              "16273      spam  interest binari option trade may continu infor...   \n",
              "16274      spam  dirti pictureblyk aircel thank valu member her...   \n",
              "16275       ham  could g mon sep david ree wrote mon sep pm rob...   \n",
              "16276       ham  insta reel par 80 गंद bhara pada hai 👀 kuch bh...   \n",
              "16277       ham  alex paper comment 1 sentenc eqn 3 eqn 4 think...   \n",
              "\n",
              "       spam_symbols  not_spam_symbols  special_symbols  digits  text_len  \\\n",
              "0                 1                 0                0       0        59   \n",
              "1                 3                11                0       4       362   \n",
              "2                 3                 2                0       0        96   \n",
              "3                 1                 1                0       8       104   \n",
              "4                 0                 8                0       4       589   \n",
              "...             ...               ...              ...     ...       ...   \n",
              "16273             0                 1                0       6        72   \n",
              "16274             1                 3                1       1       326   \n",
              "16275             2                 4                0       0       442   \n",
              "16276             0                 0                0       2        90   \n",
              "16277             1                 3                0       4       440   \n",
              "\n",
              "       words_count  emojis_count  \n",
              "0               10             0  \n",
              "1               64             0  \n",
              "2               18             4  \n",
              "3               17             0  \n",
              "4               99             0  \n",
              "...            ...           ...  \n",
              "16273           12             0  \n",
              "16274           51             0  \n",
              "16275           78             0  \n",
              "16276           20             2  \n",
              "16277           76             0  \n",
              "\n",
              "[16278 rows x 9 columns]"
            ],
            "text/html": [
              "\n",
              "  <div id=\"df-fbc63988-7a0d-4448-a460-d503a293d9d5\" class=\"colab-df-container\">\n",
              "    <div>\n",
              "<style scoped>\n",
              "    .dataframe tbody tr th:only-of-type {\n",
              "        vertical-align: middle;\n",
              "    }\n",
              "\n",
              "    .dataframe tbody tr th {\n",
              "        vertical-align: top;\n",
              "    }\n",
              "\n",
              "    .dataframe thead th {\n",
              "        text-align: right;\n",
              "    }\n",
              "</style>\n",
              "<table border=\"1\" class=\"dataframe\">\n",
              "  <thead>\n",
              "    <tr style=\"text-align: right;\">\n",
              "      <th></th>\n",
              "      <th>text_type</th>\n",
              "      <th>text</th>\n",
              "      <th>spam_symbols</th>\n",
              "      <th>not_spam_symbols</th>\n",
              "      <th>special_symbols</th>\n",
              "      <th>digits</th>\n",
              "      <th>text_len</th>\n",
              "      <th>words_count</th>\n",
              "      <th>emojis_count</th>\n",
              "    </tr>\n",
              "  </thead>\n",
              "  <tbody>\n",
              "    <tr>\n",
              "      <th>0</th>\n",
              "      <td>ham</td>\n",
              "      <td>make sure alex know birthday fifteen minut far...</td>\n",
              "      <td>1</td>\n",
              "      <td>0</td>\n",
              "      <td>0</td>\n",
              "      <td>0</td>\n",
              "      <td>59</td>\n",
              "      <td>10</td>\n",
              "      <td>0</td>\n",
              "    </tr>\n",
              "    <tr>\n",
              "      <th>1</th>\n",
              "      <td>ham</td>\n",
              "      <td>resum john lavorato thank vinc get move right ...</td>\n",
              "      <td>3</td>\n",
              "      <td>11</td>\n",
              "      <td>0</td>\n",
              "      <td>4</td>\n",
              "      <td>362</td>\n",
              "      <td>64</td>\n",
              "      <td>0</td>\n",
              "    </tr>\n",
              "    <tr>\n",
              "      <th>2</th>\n",
              "      <td>spam</td>\n",
              "      <td>plzz visit websit moviesgodml get movi free al...</td>\n",
              "      <td>3</td>\n",
              "      <td>2</td>\n",
              "      <td>0</td>\n",
              "      <td>0</td>\n",
              "      <td>96</td>\n",
              "      <td>18</td>\n",
              "      <td>4</td>\n",
              "    </tr>\n",
              "    <tr>\n",
              "      <th>3</th>\n",
              "      <td>spam</td>\n",
              "      <td>urgent mobil number award £ 2000 prize guarant...</td>\n",
              "      <td>1</td>\n",
              "      <td>1</td>\n",
              "      <td>0</td>\n",
              "      <td>8</td>\n",
              "      <td>104</td>\n",
              "      <td>17</td>\n",
              "      <td>0</td>\n",
              "    </tr>\n",
              "    <tr>\n",
              "      <th>4</th>\n",
              "      <td>ham</td>\n",
              "      <td>overview hr associ analyst project per david r...</td>\n",
              "      <td>0</td>\n",
              "      <td>8</td>\n",
              "      <td>0</td>\n",
              "      <td>4</td>\n",
              "      <td>589</td>\n",
              "      <td>99</td>\n",
              "      <td>0</td>\n",
              "    </tr>\n",
              "    <tr>\n",
              "      <th>...</th>\n",
              "      <td>...</td>\n",
              "      <td>...</td>\n",
              "      <td>...</td>\n",
              "      <td>...</td>\n",
              "      <td>...</td>\n",
              "      <td>...</td>\n",
              "      <td>...</td>\n",
              "      <td>...</td>\n",
              "      <td>...</td>\n",
              "    </tr>\n",
              "    <tr>\n",
              "      <th>16273</th>\n",
              "      <td>spam</td>\n",
              "      <td>interest binari option trade may continu infor...</td>\n",
              "      <td>0</td>\n",
              "      <td>1</td>\n",
              "      <td>0</td>\n",
              "      <td>6</td>\n",
              "      <td>72</td>\n",
              "      <td>12</td>\n",
              "      <td>0</td>\n",
              "    </tr>\n",
              "    <tr>\n",
              "      <th>16274</th>\n",
              "      <td>spam</td>\n",
              "      <td>dirti pictureblyk aircel thank valu member her...</td>\n",
              "      <td>1</td>\n",
              "      <td>3</td>\n",
              "      <td>1</td>\n",
              "      <td>1</td>\n",
              "      <td>326</td>\n",
              "      <td>51</td>\n",
              "      <td>0</td>\n",
              "    </tr>\n",
              "    <tr>\n",
              "      <th>16275</th>\n",
              "      <td>ham</td>\n",
              "      <td>could g mon sep david ree wrote mon sep pm rob...</td>\n",
              "      <td>2</td>\n",
              "      <td>4</td>\n",
              "      <td>0</td>\n",
              "      <td>0</td>\n",
              "      <td>442</td>\n",
              "      <td>78</td>\n",
              "      <td>0</td>\n",
              "    </tr>\n",
              "    <tr>\n",
              "      <th>16276</th>\n",
              "      <td>ham</td>\n",
              "      <td>insta reel par 80 गंद bhara pada hai 👀 kuch bh...</td>\n",
              "      <td>0</td>\n",
              "      <td>0</td>\n",
              "      <td>0</td>\n",
              "      <td>2</td>\n",
              "      <td>90</td>\n",
              "      <td>20</td>\n",
              "      <td>2</td>\n",
              "    </tr>\n",
              "    <tr>\n",
              "      <th>16277</th>\n",
              "      <td>ham</td>\n",
              "      <td>alex paper comment 1 sentenc eqn 3 eqn 4 think...</td>\n",
              "      <td>1</td>\n",
              "      <td>3</td>\n",
              "      <td>0</td>\n",
              "      <td>4</td>\n",
              "      <td>440</td>\n",
              "      <td>76</td>\n",
              "      <td>0</td>\n",
              "    </tr>\n",
              "  </tbody>\n",
              "</table>\n",
              "<p>16278 rows × 9 columns</p>\n",
              "</div>\n",
              "    <div class=\"colab-df-buttons\">\n",
              "\n",
              "  <div class=\"colab-df-container\">\n",
              "    <button class=\"colab-df-convert\" onclick=\"convertToInteractive('df-fbc63988-7a0d-4448-a460-d503a293d9d5')\"\n",
              "            title=\"Convert this dataframe to an interactive table.\"\n",
              "            style=\"display:none;\">\n",
              "\n",
              "  <svg xmlns=\"http://www.w3.org/2000/svg\" height=\"24px\" viewBox=\"0 -960 960 960\">\n",
              "    <path d=\"M120-120v-720h720v720H120Zm60-500h600v-160H180v160Zm220 220h160v-160H400v160Zm0 220h160v-160H400v160ZM180-400h160v-160H180v160Zm440 0h160v-160H620v160ZM180-180h160v-160H180v160Zm440 0h160v-160H620v160Z\"/>\n",
              "  </svg>\n",
              "    </button>\n",
              "\n",
              "  <style>\n",
              "    .colab-df-container {\n",
              "      display:flex;\n",
              "      gap: 12px;\n",
              "    }\n",
              "\n",
              "    .colab-df-convert {\n",
              "      background-color: #E8F0FE;\n",
              "      border: none;\n",
              "      border-radius: 50%;\n",
              "      cursor: pointer;\n",
              "      display: none;\n",
              "      fill: #1967D2;\n",
              "      height: 32px;\n",
              "      padding: 0 0 0 0;\n",
              "      width: 32px;\n",
              "    }\n",
              "\n",
              "    .colab-df-convert:hover {\n",
              "      background-color: #E2EBFA;\n",
              "      box-shadow: 0px 1px 2px rgba(60, 64, 67, 0.3), 0px 1px 3px 1px rgba(60, 64, 67, 0.15);\n",
              "      fill: #174EA6;\n",
              "    }\n",
              "\n",
              "    .colab-df-buttons div {\n",
              "      margin-bottom: 4px;\n",
              "    }\n",
              "\n",
              "    [theme=dark] .colab-df-convert {\n",
              "      background-color: #3B4455;\n",
              "      fill: #D2E3FC;\n",
              "    }\n",
              "\n",
              "    [theme=dark] .colab-df-convert:hover {\n",
              "      background-color: #434B5C;\n",
              "      box-shadow: 0px 1px 3px 1px rgba(0, 0, 0, 0.15);\n",
              "      filter: drop-shadow(0px 1px 2px rgba(0, 0, 0, 0.3));\n",
              "      fill: #FFFFFF;\n",
              "    }\n",
              "  </style>\n",
              "\n",
              "    <script>\n",
              "      const buttonEl =\n",
              "        document.querySelector('#df-fbc63988-7a0d-4448-a460-d503a293d9d5 button.colab-df-convert');\n",
              "      buttonEl.style.display =\n",
              "        google.colab.kernel.accessAllowed ? 'block' : 'none';\n",
              "\n",
              "      async function convertToInteractive(key) {\n",
              "        const element = document.querySelector('#df-fbc63988-7a0d-4448-a460-d503a293d9d5');\n",
              "        const dataTable =\n",
              "          await google.colab.kernel.invokeFunction('convertToInteractive',\n",
              "                                                    [key], {});\n",
              "        if (!dataTable) return;\n",
              "\n",
              "        const docLinkHtml = 'Like what you see? Visit the ' +\n",
              "          '<a target=\"_blank\" href=https://colab.research.google.com/notebooks/data_table.ipynb>data table notebook</a>'\n",
              "          + ' to learn more about interactive tables.';\n",
              "        element.innerHTML = '';\n",
              "        dataTable['output_type'] = 'display_data';\n",
              "        await google.colab.output.renderOutput(dataTable, element);\n",
              "        const docLink = document.createElement('div');\n",
              "        docLink.innerHTML = docLinkHtml;\n",
              "        element.appendChild(docLink);\n",
              "      }\n",
              "    </script>\n",
              "  </div>\n",
              "\n",
              "\n",
              "<div id=\"df-4988ac9f-fe64-4939-8e25-e208f4e3e06d\">\n",
              "  <button class=\"colab-df-quickchart\" onclick=\"quickchart('df-4988ac9f-fe64-4939-8e25-e208f4e3e06d')\"\n",
              "            title=\"Suggest charts\"\n",
              "            style=\"display:none;\">\n",
              "\n",
              "<svg xmlns=\"http://www.w3.org/2000/svg\" height=\"24px\"viewBox=\"0 0 24 24\"\n",
              "     width=\"24px\">\n",
              "    <g>\n",
              "        <path d=\"M19 3H5c-1.1 0-2 .9-2 2v14c0 1.1.9 2 2 2h14c1.1 0 2-.9 2-2V5c0-1.1-.9-2-2-2zM9 17H7v-7h2v7zm4 0h-2V7h2v10zm4 0h-2v-4h2v4z\"/>\n",
              "    </g>\n",
              "</svg>\n",
              "  </button>\n",
              "\n",
              "<style>\n",
              "  .colab-df-quickchart {\n",
              "      --bg-color: #E8F0FE;\n",
              "      --fill-color: #1967D2;\n",
              "      --hover-bg-color: #E2EBFA;\n",
              "      --hover-fill-color: #174EA6;\n",
              "      --disabled-fill-color: #AAA;\n",
              "      --disabled-bg-color: #DDD;\n",
              "  }\n",
              "\n",
              "  [theme=dark] .colab-df-quickchart {\n",
              "      --bg-color: #3B4455;\n",
              "      --fill-color: #D2E3FC;\n",
              "      --hover-bg-color: #434B5C;\n",
              "      --hover-fill-color: #FFFFFF;\n",
              "      --disabled-bg-color: #3B4455;\n",
              "      --disabled-fill-color: #666;\n",
              "  }\n",
              "\n",
              "  .colab-df-quickchart {\n",
              "    background-color: var(--bg-color);\n",
              "    border: none;\n",
              "    border-radius: 50%;\n",
              "    cursor: pointer;\n",
              "    display: none;\n",
              "    fill: var(--fill-color);\n",
              "    height: 32px;\n",
              "    padding: 0;\n",
              "    width: 32px;\n",
              "  }\n",
              "\n",
              "  .colab-df-quickchart:hover {\n",
              "    background-color: var(--hover-bg-color);\n",
              "    box-shadow: 0 1px 2px rgba(60, 64, 67, 0.3), 0 1px 3px 1px rgba(60, 64, 67, 0.15);\n",
              "    fill: var(--button-hover-fill-color);\n",
              "  }\n",
              "\n",
              "  .colab-df-quickchart-complete:disabled,\n",
              "  .colab-df-quickchart-complete:disabled:hover {\n",
              "    background-color: var(--disabled-bg-color);\n",
              "    fill: var(--disabled-fill-color);\n",
              "    box-shadow: none;\n",
              "  }\n",
              "\n",
              "  .colab-df-spinner {\n",
              "    border: 2px solid var(--fill-color);\n",
              "    border-color: transparent;\n",
              "    border-bottom-color: var(--fill-color);\n",
              "    animation:\n",
              "      spin 1s steps(1) infinite;\n",
              "  }\n",
              "\n",
              "  @keyframes spin {\n",
              "    0% {\n",
              "      border-color: transparent;\n",
              "      border-bottom-color: var(--fill-color);\n",
              "      border-left-color: var(--fill-color);\n",
              "    }\n",
              "    20% {\n",
              "      border-color: transparent;\n",
              "      border-left-color: var(--fill-color);\n",
              "      border-top-color: var(--fill-color);\n",
              "    }\n",
              "    30% {\n",
              "      border-color: transparent;\n",
              "      border-left-color: var(--fill-color);\n",
              "      border-top-color: var(--fill-color);\n",
              "      border-right-color: var(--fill-color);\n",
              "    }\n",
              "    40% {\n",
              "      border-color: transparent;\n",
              "      border-right-color: var(--fill-color);\n",
              "      border-top-color: var(--fill-color);\n",
              "    }\n",
              "    60% {\n",
              "      border-color: transparent;\n",
              "      border-right-color: var(--fill-color);\n",
              "    }\n",
              "    80% {\n",
              "      border-color: transparent;\n",
              "      border-right-color: var(--fill-color);\n",
              "      border-bottom-color: var(--fill-color);\n",
              "    }\n",
              "    90% {\n",
              "      border-color: transparent;\n",
              "      border-bottom-color: var(--fill-color);\n",
              "    }\n",
              "  }\n",
              "</style>\n",
              "\n",
              "  <script>\n",
              "    async function quickchart(key) {\n",
              "      const quickchartButtonEl =\n",
              "        document.querySelector('#' + key + ' button');\n",
              "      quickchartButtonEl.disabled = true;  // To prevent multiple clicks.\n",
              "      quickchartButtonEl.classList.add('colab-df-spinner');\n",
              "      try {\n",
              "        const charts = await google.colab.kernel.invokeFunction(\n",
              "            'suggestCharts', [key], {});\n",
              "      } catch (error) {\n",
              "        console.error('Error during call to suggestCharts:', error);\n",
              "      }\n",
              "      quickchartButtonEl.classList.remove('colab-df-spinner');\n",
              "      quickchartButtonEl.classList.add('colab-df-quickchart-complete');\n",
              "    }\n",
              "    (() => {\n",
              "      let quickchartButtonEl =\n",
              "        document.querySelector('#df-4988ac9f-fe64-4939-8e25-e208f4e3e06d button');\n",
              "      quickchartButtonEl.style.display =\n",
              "        google.colab.kernel.accessAllowed ? 'block' : 'none';\n",
              "    })();\n",
              "  </script>\n",
              "</div>\n",
              "    </div>\n",
              "  </div>\n"
            ],
            "application/vnd.google.colaboratory.intrinsic+json": {
              "type": "dataframe",
              "variable_name": "df",
              "summary": "{\n  \"name\": \"df\",\n  \"rows\": 16278,\n  \"fields\": [\n    {\n      \"column\": \"text_type\",\n      \"properties\": {\n        \"dtype\": \"category\",\n        \"num_unique_values\": 2,\n        \"samples\": [\n          \"spam\",\n          \"ham\"\n        ],\n        \"semantic_type\": \"\",\n        \"description\": \"\"\n      }\n    },\n    {\n      \"column\": \"text\",\n      \"properties\": {\n        \"dtype\": \"string\",\n        \"num_unique_values\": 16204,\n        \"samples\": [\n          \"dont let studi stress l8r\",\n          \"research sign steve sign research group someth requir defin formal rule go forward concern last year ask mani occas sign partial result valuat without benefit full pictur sometim ask sign trade idea control long term shall talk rick buy david port set formal rule research sign vinc steven leppard 01 24 2001 03 42 sharad agnihotri lon ect ect cc tani nath lon ect ect ted murphi lon ect ect jame new lon ect ect vinc j kaminski hou ect ect subject research sign hi sharad note discuss earlier morn\"\n        ],\n        \"semantic_type\": \"\",\n        \"description\": \"\"\n      }\n    },\n    {\n      \"column\": \"spam_symbols\",\n      \"properties\": {\n        \"dtype\": \"number\",\n        \"std\": 1,\n        \"min\": 0,\n        \"max\": 9,\n        \"num_unique_values\": 10,\n        \"samples\": [\n          8,\n          3\n        ],\n        \"semantic_type\": \"\",\n        \"description\": \"\"\n      }\n    },\n    {\n      \"column\": \"not_spam_symbols\",\n      \"properties\": {\n        \"dtype\": \"number\",\n        \"std\": 2,\n        \"min\": 0,\n        \"max\": 14,\n        \"num_unique_values\": 15,\n        \"samples\": [\n          12,\n          6\n        ],\n        \"semantic_type\": \"\",\n        \"description\": \"\"\n      }\n    },\n    {\n      \"column\": \"special_symbols\",\n      \"properties\": {\n        \"dtype\": \"number\",\n        \"std\": 0,\n        \"min\": 0,\n        \"max\": 3,\n        \"num_unique_values\": 4,\n        \"samples\": [\n          1,\n          3\n        ],\n        \"semantic_type\": \"\",\n        \"description\": \"\"\n      }\n    },\n    {\n      \"column\": \"digits\",\n      \"properties\": {\n        \"dtype\": \"number\",\n        \"std\": 3,\n        \"min\": 0,\n        \"max\": 10,\n        \"num_unique_values\": 11,\n        \"samples\": [\n          2,\n          0\n        ],\n        \"semantic_type\": \"\",\n        \"description\": \"\"\n      }\n    },\n    {\n      \"column\": \"text_len\",\n      \"properties\": {\n        \"dtype\": \"number\",\n        \"std\": 188,\n        \"min\": 0,\n        \"max\": 798,\n        \"num_unique_values\": 676,\n        \"samples\": [\n          657,\n          212\n        ],\n        \"semantic_type\": \"\",\n        \"description\": \"\"\n      }\n    },\n    {\n      \"column\": \"words_count\",\n      \"properties\": {\n        \"dtype\": \"number\",\n        \"std\": 32,\n        \"min\": 1,\n        \"max\": 208,\n        \"num_unique_values\": 166,\n        \"samples\": [\n          24,\n          134\n        ],\n        \"semantic_type\": \"\",\n        \"description\": \"\"\n      }\n    },\n    {\n      \"column\": \"emojis_count\",\n      \"properties\": {\n        \"dtype\": \"number\",\n        \"std\": 3,\n        \"min\": 0,\n        \"max\": 77,\n        \"num_unique_values\": 52,\n        \"samples\": [\n          23,\n          20\n        ],\n        \"semantic_type\": \"\",\n        \"description\": \"\"\n      }\n    }\n  ]\n}"
            }
          },
          "metadata": {},
          "execution_count": 83
        }
      ]
    }
  ]
}